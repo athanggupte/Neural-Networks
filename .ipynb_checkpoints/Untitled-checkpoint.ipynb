{
 "cells": [
  {
   "cell_type": "code",
   "execution_count": 5,
   "metadata": {},
   "outputs": [
    {
     "name": "stdout",
     "output_type": "stream",
     "text": [
      "28.7 ms ± 2.73 ms per loop (mean ± std. dev. of 7 runs, 10 loops each)\n"
     ]
    }
   ],
   "source": [
    "import numpy as np\n",
    "\n",
    "def test():\n",
    "    X = np.random.rand(512, 1000)\n",
    "    W1 = np.random.rand(512, 512)\n",
    "    b1 = np.random.rand(512, 1)\n",
    "\n",
    "    W2 = np.random.rand(256, 512)\n",
    "    b2 = np.random.rand(256, 1)\n",
    "\n",
    "    W3 = np.random.rand(1, 256)\n",
    "    b3 = np.random.rand(1, 1)\n",
    "\n",
    "    '''Z1 = np.dot(W1, X) + b1\n",
    "    A1 = Z1.copy()\n",
    "    A1[A1<0] = 0\n",
    "\n",
    "    Z2 = np.dot(W2, A1) + b2\n",
    "    A2 = Z2.copy()\n",
    "    A2[A2<0] = 0\n",
    "\n",
    "    Z3 = np.dot(W3, A2) + b3\n",
    "    A3 = Z3.copy()\n",
    "    A3[A3<0] = 0'''\n",
    "\n",
    "%timeit -n10 test()"
   ]
  },
  {
   "cell_type": "code",
   "execution_count": 6,
   "metadata": {},
   "outputs": [
    {
     "name": "stdout",
     "output_type": "stream",
     "text": [
      "The slowest run took 69.62 times longer than the fastest. This could mean that an intermediate result is being cached.\n",
      "133 ms ± 295 ms per loop (mean ± std. dev. of 7 runs, 10 loops each)\n"
     ]
    }
   ],
   "source": [
    "import cupy as np\n",
    "\n",
    "def test():\n",
    "    X = np.random.rand(512, 1000)\n",
    "    W1 = np.random.rand(512, 512)\n",
    "    b1 = np.random.rand(512, 1)\n",
    "\n",
    "    W2 = np.random.rand(256, 512)\n",
    "    b2 = np.random.rand(256, 1)\n",
    "\n",
    "    W3 = np.random.rand(1, 256)\n",
    "    b3 = np.random.rand(1, 1)\n",
    "\n",
    "    '''Z1 = np.dot(W1, X) + b1\n",
    "    A1 = Z1.copy()\n",
    "    A1[A1<0] = 0\n",
    "\n",
    "    Z2 = np.dot(W2, A1) + b2\n",
    "    A2 = Z2.copy()\n",
    "    A2[A2<0] = 0\n",
    "\n",
    "    Z3 = np.dot(W3, A2) + b3\n",
    "    A3 = Z3.copy()\n",
    "    A3[A3<0] = 0'''\n",
    "\n",
    "%timeit -n10 test()"
   ]
  }
 ],
 "metadata": {
  "kernelspec": {
   "display_name": "Python 3",
   "language": "python",
   "name": "python3"
  },
  "language_info": {
   "codemirror_mode": {
    "name": "ipython",
    "version": 3
   },
   "file_extension": ".py",
   "mimetype": "text/x-python",
   "name": "python",
   "nbconvert_exporter": "python",
   "pygments_lexer": "ipython3",
   "version": "3.8.6"
  }
 },
 "nbformat": 4,
 "nbformat_minor": 4
}
